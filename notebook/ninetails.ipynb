{
 "cells": [
  {
   "cell_type": "code",
   "execution_count": 1,
   "metadata": {},
   "outputs": [
    {
     "name": "stdout",
     "output_type": "stream",
     "text": [
      "pull personal_gkyl_scripts repository\n",
      "Requirement already satisfied: pip in /Users/ahoffmann/.pyenv/versions/3.12.2/lib/python3.12/site-packages (25.0.1)\n",
      "Note: you may need to restart the kernel to use updated packages.\n",
      "Already up to date.\n"
     ]
    },
    {
     "name": "stderr",
     "output_type": "stream",
     "text": [
      "/Users/ahoffmann/.pyenv/versions/3.12.2/lib/python3.12/site-packages/ninetails/fastfouriertransform.py:8: UserWarning: CuPy not found. GPU FFTs will not be available.\n",
      "  warnings.warn(\"CuPy not found. GPU FFTs will not be available.\")\n"
     ]
    }
   ],
   "source": [
    "install_ntl = True\n",
    "if install_ntl:\n",
    "    print(\"pull personal_gkyl_scripts repository\")\n",
    "    %pip install --upgrade pip\n",
    "    !git -C ~/programming/ninetails/ pull\n",
    "    !sh ~/programming/ninetails/install.sh >  install.log\n",
    "\n",
    "import numpy as np\n",
    "import os, sys\n",
    "import ninetails as ntl"
   ]
  },
  {
   "cell_type": "code",
   "execution_count": null,
   "metadata": {},
   "outputs": [],
   "source": [
    "simulation = ntl.Simulation()\n",
    "simulation.set_numericalconfig(\n",
    "    max_time=10.0, \n",
    "    dt=0.01\n",
    "    )\n",
    "simulation.set_simulationconfig(\n",
    "    nonlinear=False, \n",
    "    model_type='9GM',\n",
    "    geometry='zpinch'\n",
    "    )\n",
    "simulation.run()\n",
    "simulation.plotter.growth_rates()\n",
    "simulation.plotter.energy_evolution()\n",
    "# simulation.plotter.create_gif('N',moviename='MHW_N.gif')"
   ]
  },
  {
   "cell_type": "code",
   "execution_count": 2,
   "metadata": {},
   "outputs": [],
   "source": [
    "simulation = ntl.Simulation()\n",
    "simulation.set_numericalconfig(max_time=50.0)\n",
    "simulation.set_simulationconfig(nonlinear=True, model_type='MHW')\n",
    "# simulation.run()\n",
    "#simulation.plotter.growth_rates()\n",
    "# simulation.plotter.energy_evolution()\n",
    "# simulation.plotter.create_gif('N',moviename='MHW_N.gif')"
   ]
  },
  {
   "cell_type": "code",
   "execution_count": 3,
   "metadata": {},
   "outputs": [],
   "source": [
    "simulation = ntl.Simulation()\n",
    "simulation.set_numericalconfig(max_time=50.0)\n",
    "simulation.set_simulationconfig(nonlinear=True, model_type='HW')\n",
    "# simulation.run()\n",
    "# #simulation.plotter.growth_rates()\n",
    "# simulation.plotter.energy_evolution()\n",
    "# simulation.plotter.create_gif('N',moviename='HW_N.gif')"
   ]
  },
  {
   "cell_type": "code",
   "execution_count": 4,
   "metadata": {},
   "outputs": [],
   "source": [
    "simulation = ntl.Simulation()\n",
    "simulation.set_simulationconfig(model_type=\"HM\")\n",
    "simulation.set_physicalconfig(kappa=1.0, alpha=0.0)\n",
    "simulation.set_numericalconfig(max_time=100.0,muHD=0.001, dt = 0.05)\n",
    "simulation.set_simulationconfig(nonlinear=True)\n",
    "# simulation.run()\n",
    "# simulation.plotter.energy_evolution()\n",
    "# simulation.plotter.create_gif('N',moviename='HM_N.gif')"
   ]
  }
 ],
 "metadata": {
  "kernelspec": {
   "display_name": "Python 3",
   "language": "python",
   "name": "python3"
  },
  "language_info": {
   "codemirror_mode": {
    "name": "ipython",
    "version": 3
   },
   "file_extension": ".py",
   "mimetype": "text/x-python",
   "name": "python",
   "nbconvert_exporter": "python",
   "pygments_lexer": "ipython3",
   "version": "3.12.2"
  }
 },
 "nbformat": 4,
 "nbformat_minor": 2
}
