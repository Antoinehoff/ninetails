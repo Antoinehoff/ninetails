{
 "cells": [
  {
   "cell_type": "code",
   "execution_count": null,
   "metadata": {},
   "outputs": [],
   "source": [
    "import numpy as np\n",
    "from numba import cuda\n",
    "\n",
    "def cpu_parallel_fft(arr):\n",
    "    return np.fft.ifft(np.fft.fft(arr))\n",
    "\n",
    "# Check if CUDA is available\n",
    "gpu_available = cuda.is_available()\n",
    "\n",
    "if gpu_available:\n",
    "    @cuda.jit\n",
    "    def gpu_parallel_fft(arr, out):\n",
    "        i = cuda.grid(1)\n",
    "        if i < arr.shape[0]:\n",
    "            out[i] = arr[i]  # Simplified; use CuPy for FFT\n",
    "\n",
    "arr = np.random.rand(1000)\n",
    "\n",
    "# Run CPU computation\n",
    "cpu_result = cpu_parallel_fft(arr)\n",
    "\n",
    "if gpu_available:\n",
    "    d_arr = cuda.to_device(arr)\n",
    "    d_out = cuda.device_array_like(d_arr)\n",
    "    gpu_parallel_fft[32, 32](d_arr, d_out)\n",
    "    print(\"GPU Computation Done\")\n",
    "else:\n",
    "    print(\"No GPU found, skipping GPU computation.\")\n",
    "\n",
    "print(\"CPU Computation Done\")"
   ]
  }
 ],
 "metadata": {
  "kernelspec": {
   "display_name": ".venv",
   "language": "python",
   "name": "python3"
  },
  "language_info": {
   "codemirror_mode": {
    "name": "ipython",
    "version": 3
   },
   "file_extension": ".py",
   "mimetype": "text/x-python",
   "name": "python",
   "nbconvert_exporter": "python",
   "pygments_lexer": "ipython3",
   "version": "3.13.1"
  }
 },
 "nbformat": 4,
 "nbformat_minor": 2
}
